{
  "nbformat": 4,
  "nbformat_minor": 0,
  "metadata": {
    "colab": {
      "name": "Untitled0.ipynb",
      "provenance": [],
      "collapsed_sections": [],
      "authorship_tag": "ABX9TyMjhYHUMWU/KqAYNZV7JkiR",
      "include_colab_link": true
    },
    "kernelspec": {
      "name": "python3",
      "display_name": "Python 3"
    }
  },
  "cells": [
    {
      "cell_type": "markdown",
      "metadata": {
        "id": "view-in-github",
        "colab_type": "text"
      },
      "source": [
        "<a href=\"https://colab.research.google.com/github/nayeli-coello/Proyecto/blob/main/Untitled0.ipynb\" target=\"_parent\"><img src=\"https://colab.research.google.com/assets/colab-badge.svg\" alt=\"Open In Colab\"/></a>"
      ]
    },
    {
      "cell_type": "markdown",
      "metadata": {
        "id": "zFU9PsMXglO2"
      },
      "source": [
        "**Creación del proyecto**\r\n",
        "\r\n",
        "Librerías\r\n",
        "\r\n",
        "Ingreso del ID del usuario\r\n",
        "\r\n",
        "Búsqueda de los datos del usuario\r\n",
        "\r\n",
        "Creación del link de la página de stackoverflow\r\n",
        "\r\n",
        "Búsqueda de las etiquetas del usuario\r\n"
      ]
    },
    {
      "cell_type": "code",
      "metadata": {
        "id": "2E8X5sO-fn7B"
      },
      "source": [
        "import re\r\n",
        "from bs4 import BeautifulSoup\r\n",
        "import requests\r\n",
        "from io import BytesIO\r\n",
        "from bs4 import BeautifulSoup\r\n",
        "import requests\r\n",
        "import pandas as pan\r\n",
        "\r\n",
        "\r\n",
        "RED, WHITE, CYAN, GREEN, END = '\\033[91m', '\\33[46m', '\\033[36m', '\\033[1;32m', '\\033[0m'\r\n",
        "\r\n",
        "\r\n",
        "id = input(\"\\n\\n[*] Digite el ID del usuario para mostrar la nube de palabras: \\n    \")\r\n",
        "print(\"\\n\")\r\n",
        "for i in range(101):\r\n",
        "        time.sleep(0.01)\r\n",
        "        stdout.write(\"\\r{0}[{3}*{0}]{2} Abriendo Base De Datos De StackOverFlow... %d%%\".format(GREEN, END, CYAN, RED, WHITE) % i)\r\n",
        "        stdout.flush()\r\n",
        "        time.sleep(0.02)\r\n",
        " \r\n",
        "for i in range(101):\r\n",
        "        time.sleep(0.01)\r\n",
        "        stdout.write(\"\\r{0}[{3}*{0}]{2} Cargando Usuarios De StackOverFlow... %d%%\".format(GREEN, END, CYAN, RED, WHITE) % i)\r\n",
        "        stdout.flush()\r\n",
        "        time.sleep(0.02)\r\n",
        " \r\n",
        "print (f\"\\n\\n[*] Buscando Usuario << {id} >> En StackOverFlow Data Base Por Favor Espere\")\r\n",
        "for i in range(101):\r\n",
        "        time.sleep(0.01)\r\n",
        "        stdout.write(\"\\r{0}[{3}*{0}]{2} %d%%\".format(GREEN, END, CYAN, RED, WHITE) % i)\r\n",
        "        stdout.flush()\r\n",
        "        time.sleep(0.02)\r\n",
        "\r\n",
        "if id.isdigit () != True:\r\n",
        "  print (\"\\n\\nDato no valido.\")\r\n",
        "else:\r\n",
        "  url = 'https://es.stackoverflow.com/users/' + id + \"/?tab=tags\"\r\n",
        "  page = requests.get (url)   # requests chequea que el url funciona\r\n",
        " \r\n",
        " \r\n",
        "page= requests.get(url)\r\n",
        " \r\n",
        "soup = BeautifulSoup (page.content, \"html.parser\") # BeautifulSoup analiza el htlm\r\n",
        "lbls = soup.find_all ('a', class_='post-tag') # lbls = etiquetas de usuario\r\n",
        "labels = list ()"
      ],
      "execution_count": null,
      "outputs": []
    }
  ]
}