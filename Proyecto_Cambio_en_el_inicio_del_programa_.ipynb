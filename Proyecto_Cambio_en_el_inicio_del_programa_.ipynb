{
  "nbformat": 4,
  "nbformat_minor": 0,
  "metadata": {
    "colab": {
      "name": "Proyecto Cambio en el inicio del programa .ipynb",
      "provenance": [],
      "collapsed_sections": [],
      "authorship_tag": "ABX9TyPe5howG03k/ztabh+QZxky",
      "include_colab_link": true
    },
    "kernelspec": {
      "name": "python3",
      "display_name": "Python 3"
    }
  },
  "cells": [
    {
      "cell_type": "markdown",
      "metadata": {
        "id": "view-in-github",
        "colab_type": "text"
      },
      "source": [
        "<a href=\"https://colab.research.google.com/github/nayeli-coello/Proyecto/blob/main/Proyecto_Cambio_en_el_inicio_del_programa_.ipynb\" target=\"_parent\"><img src=\"https://colab.research.google.com/assets/colab-badge.svg\" alt=\"Open In Colab\"/></a>"
      ]
    },
    {
      "cell_type": "markdown",
      "metadata": {
        "id": "XgkK6lYPDHIH"
      },
      "source": [
        "**Cambio en el inicio del programa**\r\n",
        "\r\n",
        "Creación de un for para el inicio del programa \r\n"
      ]
    },
    {
      "cell_type": "code",
      "metadata": {
        "id": "MJx3-k0bCrHs"
      },
      "source": [
        "import re\r\n",
        "from bs4 import BeautifulSoup\r\n",
        "import requests\r\n",
        "from io import BytesIO\r\n",
        "from bs4 import BeautifulSoup\r\n",
        "from wordcloud import WordCloud, ImageColorGenerator, STOPWORDS\r\n",
        "import requests\r\n",
        "import pandas as pan\r\n",
        "from os import path\r\n",
        "from matplotlib.pyplot import imread\r\n",
        "import matplotlib.pyplot as plt\r\n",
        "from PIL import Image\r\n",
        "import sys, os, webbrowser, platform\r\n",
        "\r\n",
        "import time\r\n",
        "from time import sleep\r\n",
        "from sys import stdout\r\n",
        "import numpy as np\r\n",
        "from wordcloud import WordCloud\r\n",
        "\r\n",
        "from PIL import Image\r\n",
        "import requests\r\n",
        "from io import BytesIO\r\n",
        "from wordcloud import WordCloud, ImageColorGenerator\r\n",
        " \r\n",
        "\r\n",
        "from sys import stdout\r\n",
        "\r\n",
        "RED, WHITE, CYAN, GREEN, END = '\\033[91m', '\\33[46m', '\\033[36m', '\\033[1;32m', '\\033[0m'\r\n",
        "\r\n",
        "\r\n",
        "for i in range(101):\r\n",
        "        time.sleep(0.01)\r\n",
        "        stdout.write(\"\\r{0}[{3}*{0}]{2} Iniciando Programa Por Favor Espere... %d%%\".format(GREEN, END, CYAN, RED, WHITE) % i)\r\n",
        "        stdout.flush()\r\n",
        "        time.sleep(0.02)\r\n",
        " \r\n",
        "id = input(\"\\n\\n[*] Digite el ID del usuario para mostrar la nube de palabras: \\n    \")\r\n",
        "print(\"\\n\")\r\n",
        "for i in range(101):\r\n",
        "        time.sleep(0.01)\r\n",
        "        stdout.write(\"\\r{0}[{3}*{0}]{2} Abriendo Base De Datos De StackOverFlow... %d%%\".format(GREEN, END, CYAN, RED, WHITE) % i)\r\n",
        "        stdout.flush()\r\n",
        "        time.sleep(0.02)\r\n",
        " \r\n",
        "for i in range(101):\r\n",
        "        time.sleep(0.01)\r\n",
        "        stdout.write(\"\\r{0}[{3}*{0}]{2} Cargando Usuarios De StackOverFlow... %d%%\".format(GREEN, END, CYAN, RED, WHITE) % i)\r\n",
        "        stdout.flush()\r\n",
        "        time.sleep(0.02)\r\n",
        " \r\n",
        "print (f\"\\n\\n[*] Buscando Usuario << {id} >> En StackOverFlow Data Base Por Favor Espere\")\r\n",
        "for i in range(101):\r\n",
        "        time.sleep(0.01)\r\n",
        "        stdout.write(\"\\r{0}[{3}*{0}]{2} %d%%\".format(GREEN, END, CYAN, RED, WHITE) % i)\r\n",
        "        stdout.flush()\r\n",
        "        time.sleep(0.02)\r\n",
        "\r\n",
        "if id.isdigit () != True:\r\n",
        "  print (\"\\n\\nDato no valido.\")\r\n",
        "else:\r\n",
        "  url = 'https://es.stackoverflow.com/users/' + id + \"/?tab=tags\"\r\n",
        "  page = requests.get (url)   # requests chequea que el url funciona\r\n",
        " \r\n",
        " \r\n",
        "page= requests.get(url)\r\n",
        " \r\n",
        "soup = BeautifulSoup (page.content, \"html.parser\") # BeautifulSoup analiza el htlm\r\n",
        "lbls = soup.find_all ('a', class_='post-tag') # lbls = etiquetas de usuario\r\n",
        "labels = list ()\r\n",
        "\r\n",
        "for i in lbls:\r\n",
        "    labels.append(i.text)\r\n",
        "print (labels)\r\n",
        "\r\n",
        "#unique_string=(\" \").join(labels)\r\n",
        " \r\n",
        " \r\n",
        "url = \"https://media.istockphoto.com/photos/monarch-butterfly-in-rainbow-colors-isolated-on-white-picture-id1196565484?k=6&m=1196565484&s=170667a&w=0&h=-H8O0dSlwlyFWvzRK1RR5VDV4fZo63dNoWXveFMm7JE=\"\r\n",
        "clr = \"black\"\r\n",
        "cw = 0\r\n",
        " \r\n",
        " \r\n",
        "unique_string = (\" \").join (labels)\r\n",
        "print(\"\\n\")\r\n",
        "response = requests.get (url)\r\n",
        "creation = np.asarray (Image.open (BytesIO (response.content)))  #np transforma la imagen en un array\r\n",
        "wordcloud = WordCloud (background_color = clr, mask=creation, contour_width = cw, regexp=r\"\\S[\\S']+\").generate (unique_string)\r\n",
        "colors = ImageColorGenerator (creation)\r\n",
        "wordcloud.recolor (color_func = colors)\r\n",
        "plt.figure (figsize = (15, 8))\r\n",
        "plt.imshow (wordcloud)\r\n",
        "plt.axis (\"off\")\r\n",
        "plt.show ()\r\n",
        "plt.close ()"
      ],
      "execution_count": 2,
      "outputs": []
    }
  ]
}