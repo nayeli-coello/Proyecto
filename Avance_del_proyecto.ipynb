{
  "nbformat": 4,
  "nbformat_minor": 0,
  "metadata": {
    "colab": {
      "name": "Avance del proyecto.ipynb",
      "provenance": [],
      "collapsed_sections": [],
      "authorship_tag": "ABX9TyORrGElf0fJ0h1Mik5pc+od",
      "include_colab_link": true
    },
    "kernelspec": {
      "name": "python3",
      "display_name": "Python 3"
    }
  },
  "cells": [
    {
      "cell_type": "markdown",
      "metadata": {
        "id": "view-in-github",
        "colab_type": "text"
      },
      "source": [
        "<a href=\"https://colab.research.google.com/github/nayeli-coello/Proyecto/blob/main/Avance_del_proyecto.ipynb\" target=\"_parent\"><img src=\"https://colab.research.google.com/assets/colab-badge.svg\" alt=\"Open In Colab\"/></a>"
      ]
    },
    {
      "cell_type": "code",
      "metadata": {
        "colab": {
          "base_uri": "https://localhost:8080/"
        },
        "id": "GlP3M7rRl-lB",
        "outputId": "41cb2b41-59f5-4b84-8c82-a67b5f0d2686"
      },
      "source": [
        "import re\r\n",
        "from bs4 import BeautifulSoup\r\n",
        "import requests\r\n",
        "from io import BytesIO\r\n",
        "from bs4 import BeautifulSoup\r\n",
        "import requests\r\n",
        "import pandas as pan\r\n",
        "from os import path\r\n",
        "from matplotlib.pyplot import imread\r\n",
        "import matplotlib.pyplot as plt\r\n",
        "from PIL import Image\r\n",
        "import sys, os, webbrowser, platform\r\n",
        "\r\n",
        "import time\r\n",
        "from time import sleep\r\n",
        "from sys import stdout\r\n",
        " \r\n",
        "\r\n",
        "from sys import stdout\r\n",
        "\r\n",
        "RED, WHITE, CYAN, GREEN, END = '\\033[91m', '\\33[46m', '\\033[36m', '\\033[1;32m', '\\033[0m'\r\n",
        "\r\n",
        "\r\n",
        "id = input(\"\\n\\n[*] Digite el ID del usuario para mostrar la nube de palabras: \\n    \")\r\n",
        "print(\"\\n\")\r\n",
        "for i in range(101):\r\n",
        "        time.sleep(0.01)\r\n",
        "        stdout.write(\"\\r{0}[{3}*{0}]{2} Abriendo Base De Datos De StackOverFlow... %d%%\".format(GREEN, END, CYAN, RED, WHITE) % i)\r\n",
        "        stdout.flush()\r\n",
        "        time.sleep(0.02)\r\n",
        " \r\n",
        "for i in range(101):\r\n",
        "        time.sleep(0.01)\r\n",
        "        stdout.write(\"\\r{0}[{3}*{0}]{2} Cargando Usuarios De StackOverFlow... %d%%\".format(GREEN, END, CYAN, RED, WHITE) % i)\r\n",
        "        stdout.flush()\r\n",
        "        time.sleep(0.02)\r\n",
        " \r\n",
        "print (f\"\\n\\n[*] Buscando Usuario << {id} >> En StackOverFlow Data Base Por Favor Espere\")\r\n",
        "for i in range(101):\r\n",
        "        time.sleep(0.01)\r\n",
        "        stdout.write(\"\\r{0}[{3}*{0}]{2} %d%%\".format(GREEN, END, CYAN, RED, WHITE) % i)\r\n",
        "        stdout.flush()\r\n",
        "        time.sleep(0.02)\r\n",
        "\r\n",
        "if id.isdigit () != True:\r\n",
        "  print (\"\\n\\nDato no valido.\")\r\n",
        "else:\r\n",
        "  url = 'https://es.stackoverflow.com/users/' + id + \"/?tab=tags\"\r\n",
        "  page = requests.get (url)   # requests chequea que el url funciona\r\n",
        " \r\n",
        " \r\n",
        "page= requests.get(url)\r\n",
        " \r\n",
        "soup = BeautifulSoup (page.content, \"html.parser\") # BeautifulSoup analiza el htlm\r\n",
        "lbls = soup.find_all ('a', class_='post-tag') # lbls = etiquetas de usuario\r\n",
        "labels = list ()\r\n",
        "\r\n",
        "for i in lbls:\r\n",
        "    labels.append(i.text)\r\n",
        "print (labels)"
      ],
      "execution_count": 2,
      "outputs": [
        {
          "output_type": "stream",
          "text": [
            "\n",
            "\n",
            "[*] Digite el ID del usuario para mostrar la nube de palabras: \n",
            "    108737\n",
            "\n",
            "\n",
            "\u001b[1;32m[\u001b[91m*\u001b[1;32m]\u001b[36m Cargando Usuarios De StackOverFlow... 100%\n",
            "\n",
            "[*] Buscando Usuario << 108737 >> En StackOverFlow Data Base Por Favor Espere\n",
            "\u001b[1;32m[\u001b[91m*\u001b[1;32m]\u001b[36m 100%['python', 'machine-learning', 'sintaxis', 'atributos', 'python-3.x', 'inteligencia-artificial', 'regresión-lineal', 'seguridad', 'pandas', 'poo', 'beautifulsoup', 'método', 'tensorflow', 'redes-neuronales', 'matplotlib', 'aplicación-web', 'lista', 'matemáticas', 'python-2.7', 'csv', 'funciones', 'pip', 'c++', 'git', 'diccionarios', 'jupyter', 'regex', 'python-import', 'keras', 'string', 'scikit-learn', 'optimización', 'dataframe', 'scraping', 'windows', 'lenguaje-agnóstico', 'tuplas', 'python-3.7', 'apache-spark', 'librería', 'python-3.8', 'bucles', 'pyspark', 'redondeo', 'parametros', 'flask', 'mysql', 'gunicorn', 'numpy', 'javascript', 'decoradores', 'nginx']\n"
          ],
          "name": "stdout"
        }
      ]
    }
  ]
}